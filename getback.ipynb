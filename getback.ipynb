{
 "cells": [
  {
   "cell_type": "code",
   "execution_count": 3,
   "metadata": {},
   "outputs": [
    {
     "name": "stdout",
     "output_type": "stream",
     "text": [
      "1\n",
      "2\n",
      "3\n",
      "4\n",
      "5\n"
     ]
    }
   ],
   "source": [
    "mylist = [1,2,3,4,5]\n",
    "for i in mylist:\n",
    "    print(i)"
   ]
  },
  {
   "cell_type": "code",
   "execution_count": 4,
   "metadata": {},
   "outputs": [
    {
     "name": "stdout",
     "output_type": "stream",
     "text": [
      "22\n",
      "Odd number\n",
      "44\n",
      "Odd number\n",
      "66\n",
      "Odd number\n"
     ]
    }
   ],
   "source": [
    "mylist2 = [22,33,44,55,66,77]\n",
    "for i in mylist2:\n",
    "    if i%2 == 0:\n",
    "        print(i)\n",
    "    else:\n",
    "\n",
    "        print(\"Odd number\")\n",
    "   "
   ]
  },
  {
   "cell_type": "code",
   "execution_count": 5,
   "metadata": {},
   "outputs": [
    {
     "name": "stdout",
     "output_type": "stream",
     "text": [
      "10\n"
     ]
    }
   ],
   "source": [
    "num = 0\n",
    "int_num = [1,2,3,4,5,6,7,8,9,10]\n",
    "for i in int_num:\n",
    "    num = num + 1\n",
    "print(num)"
   ]
  },
  {
   "cell_type": "code",
   "execution_count": 6,
   "metadata": {},
   "outputs": [
    {
     "name": "stdout",
     "output_type": "stream",
     "text": [
      "5\n",
      "You are a Child\n",
      "You are a Teenager\n"
     ]
    }
   ],
   "source": [
    "def sum(a,b):\n",
    "    return a + b\n",
    "\n",
    "print(sum(2,3))\n",
    "\n",
    "def human(age):\n",
    "\n",
    "    if age>20:\n",
    "        return \"You are an Adult\"\n",
    "    elif age>13:\n",
    "        return \"You are a Teenager\"\n",
    "    elif age<13:\n",
    "        return \"You are a Child\"\n",
    "    \n",
    "print(human(12))\n",
    "print(human(15))"
   ]
  },
  {
   "cell_type": "code",
   "execution_count": 7,
   "metadata": {},
   "outputs": [
    {
     "name": "stdout",
     "output_type": "stream",
     "text": [
      "40\n"
     ]
    }
   ],
   "source": [
    "my_numbers = [10,10,10,10]\n",
    "tokie = 0\n",
    "for _ in my_numbers:\n",
    "    tokie = tokie+_\n",
    "\n",
    "print(tokie)"
   ]
  },
  {
   "cell_type": "code",
   "execution_count": 14,
   "metadata": {},
   "outputs": [
    {
     "name": "stdout",
     "output_type": "stream",
     "text": [
      "Sukriat You are on the brisk of adulthood\n",
      "Marcus Aurelius You are on the brisk of adulthood\n"
     ]
    }
   ],
   "source": [
    "students = [\n",
    "    {\"name\":\"Sukriat\",\"age\":19},\n",
    "    {\"name\":\"Piyush\",\"age\":20},\n",
    "    {\"name\": \"Marcus Aurelius\", \"age\": 19, \"Occupation\":\"Super King\"}\n",
    "    ]\n",
    "for studs in students:\n",
    "    if studs[\"age\"] == 19:\n",
    "            print(studs[\"name\"]+\" You are on the brisk of adulthood\")"
   ]
  },
  {
   "cell_type": "code",
   "execution_count": null,
   "metadata": {},
   "outputs": [],
   "source": [
    "student = {\"name\": \"Marcus Aurelius\", \"age\": 19, \"Occupation\":\"Super King\"}\n",
    "\n",
    "\n"
   ]
  }
 ],
 "metadata": {
  "kernelspec": {
   "display_name": ".venv",
   "language": "python",
   "name": "python3"
  },
  "language_info": {
   "codemirror_mode": {
    "name": "ipython",
    "version": 3
   },
   "file_extension": ".py",
   "mimetype": "text/x-python",
   "name": "python",
   "nbconvert_exporter": "python",
   "pygments_lexer": "ipython3",
   "version": "3.11.9"
  }
 },
 "nbformat": 4,
 "nbformat_minor": 2
}
